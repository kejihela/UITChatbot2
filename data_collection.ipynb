{
 "cells": [
  {
   "cell_type": "code",
   "execution_count": null,
   "metadata": {},
   "outputs": [],
   "source": [
    "import requests\n",
    "from bs4 import BeautifulSoup\n",
    "import os\n",
    "\n",
    "\n",
    "# URL of the webpage to scrape (replace with actual URL)\n",
    "url = 'https://www.bbc.com/news'\n",
    "\n",
    "# Send a GET request to the webpage\n",
    "response = requests.get(url)\n",
    "soup = BeautifulSoup(response.content, 'html.parser')\n",
    "\n",
    "# Find all paragraph tags\n",
    "paragraphs = soup.find_all('p')\n",
    "\n",
    "save_path = 'data/doc1'\n",
    "# Extract text and save to a file\n",
    "with open(save_path, 'w', encoding='utf-8') as file:\n",
    "    for para in paragraphs:\n",
    "        text = para.get_text().strip()\n",
    "        if text:\n",
    "            file.write(text + \"\\n\\n\")\n",
    "\n",
    "print(f\"Scraped data saved to {save_path}\")"
   ]
  }
 ],
 "metadata": {
  "kernelspec": {
   "display_name": "venv",
   "language": "python",
   "name": "python3"
  },
  "language_info": {
   "name": "python",
   "version": "3.13.1"
  }
 },
 "nbformat": 4,
 "nbformat_minor": 2
}
