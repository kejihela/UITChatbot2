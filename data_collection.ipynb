{
 "cells": [
  {
   "cell_type": "code",
   "execution_count": null,
   "metadata": {
    "vscode": {
     "languageId": "plaintext"
    }
   },
   "outputs": [],
   "source": [
    "import requests\n",
    "from bs4 import BeautifulSoup\n",
    "import os\n",
    "\n",
    "\n",
    "\n",
    "\n",
    "# URL of the webpage to scrape (replace with actual URL)\n",
    "url = 'https://www.bbc.com/news'\n",
    "\n",
    "# Send a GET request to the webpage\n",
    "response = requests.get(url)\n",
    "soup = BeautifulSoup(response.content, 'html.parser')\n",
    "\n",
    "# Find all paragraph tags\n",
    "paragraphs = soup.find_all('p')\n",
    "\n",
    "# Extract text and save to a file\n",
    "with open(save_path, 'w', encoding='utf-8') as file:\n",
    "    for para in paragraphs:\n",
    "        text = para.get_text().strip()\n",
    "        if text:\n",
    "            file.write(text + \"\\n\\n\")\n",
    "\n",
    "print(f\"Scraped data saved to {save_path}\")"
   ]
  }
 ],
 "metadata": {
  "language_info": {
   "name": "python"
  }
 },
 "nbformat": 4,
 "nbformat_minor": 2
}
